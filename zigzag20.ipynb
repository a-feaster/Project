{
  "nbformat": 4,
  "nbformat_minor": 0,
  "metadata": {
    "colab": {
      "provenance": [],
      "authorship_tag": "ABX9TyN6KrsHZ89jh+mCvGn9znu0",
      "include_colab_link": true
    },
    "kernelspec": {
      "name": "python3",
      "display_name": "Python 3"
    },
    "language_info": {
      "name": "python"
    }
  },
  "cells": [
    {
      "cell_type": "markdown",
      "metadata": {
        "id": "view-in-github",
        "colab_type": "text"
      },
      "source": [
        "<a href=\"https://colab.research.google.com/github/a-feaster/Project/blob/main/zigzag20.ipynb\" target=\"_parent\"><img src=\"https://colab.research.google.com/assets/colab-badge.svg\" alt=\"Open In Colab\"/></a>"
      ]
    },
    {
      "cell_type": "code",
      "execution_count": null,
      "metadata": {
        "id": "79-hz7XbSofl"
      },
      "outputs": [],
      "source": [
        "if 'google.colab' in str(get_ipython()):\n",
        "  !pip install git+https://github.com/FullControlXYZ/fullcontrol --quiet\n",
        "import fullcontrol as fc\n",
        "from google.colab import files"
      ]
    },
    {
      "cell_type": "code",
      "source": [
        "# printer/gcode parameters\n",
        "\n",
        "design_name = 'zigzag_20'\n",
        "nozzle_temp = 200\n",
        "bed_temp = 60\n",
        "print_speed = 1000\n",
        "fan_percent = 100\n",
        "printer_name='ender_3' # generic / ultimaker2plus / prusa_i3 / ender_3 / cr_10 / bambulab_x1 / toolchanger_T0"
      ],
      "metadata": {
        "id": "VoTgY11aSr2U"
      },
      "execution_count": null,
      "outputs": []
    },
    {
      "cell_type": "code",
      "source": [
        "# design parameters\n",
        "\n",
        "EW = 0.4 # extrusion width\n",
        "EH = 0.2 # extrusion height (and layer height)\n",
        "initial_z = EH*0.6 # initial nozzle position is set to 0.6x the extrusion height to get a bit of 'squish' for good bed adhesion\n",
        "#layers = 105\n",
        "layers = 1"
      ],
      "metadata": {
        "id": "KuT5xYh7SvAU"
      },
      "execution_count": null,
      "outputs": []
    },
    {
      "cell_type": "code",
      "source": [
        "steps = []\n",
        "for layer in range(layers):\n",
        "  steps.append(fc.Point(x=100, y=100, z=initial_z+layer*EH)) #1\n",
        "  steps.append(fc.Point(x=100.7, y=100, z=initial_z+layer*EH)) #2\n",
        "  steps.append(fc.Point(x=100, y=99.3, z=initial_z+layer*EH)) #3\n",
        "  steps.append(fc.Point(x=100, y=97.3, z=initial_z+layer*EH)) #4\n",
        "  steps.append(fc.Point(x=102.7, y=100, z=initial_z+layer*EH)) #5\n",
        "  steps.append(fc.Point(x=104.7, y=100, z=initial_z+layer*EH)) #6\n",
        "  steps.append(fc.Point(x=100, y=95.3, z=initial_z+layer*EH)) #7\n",
        "  steps.append(fc.Point(x=100, y=93.3, z=initial_z+layer*EH)) #8\n",
        "  steps.append(fc.Point(x=106.7, y=100, z=initial_z+layer*EH)) #9\n",
        "  steps.append(fc.Point(x=108.7, y=100, z=initial_z+layer*EH)) #10\n",
        "  steps.append(fc.Point(x=100, y=91.3, z=initial_z+layer*EH)) #11\n",
        "  steps.append(fc.Point(x=100, y=89.3, z=initial_z+layer*EH)) #12\n",
        "  steps.append(fc.Point(x=110.7, y=100, z=initial_z+layer*EH)) #13\n",
        "  steps.append(fc.Point(x=112.7, y=100, z=initial_z+layer*EH)) #14\n",
        "  steps.append(fc.Point(x=100, y=87.3, z=initial_z+layer*EH)) #15\n",
        "  steps.append(fc.Point(x=102, y=87.3, z=initial_z+layer*EH)) #16\n",
        "  steps.append(fc.Point(x=112.7, y=98, z=initial_z+layer*EH)) #17\n",
        "  steps.append(fc.Point(x=112.7, y=96, z=initial_z+layer*EH)) #18\n",
        "  steps.append(fc.Point(x=104, y=87.3, z=initial_z+layer*EH)) #19\n",
        "  steps.append(fc.Point(x=106, y=87.3, z=initial_z+layer*EH)) #20\n",
        "  steps.append(fc.Point(x=112.7, y=94, z=initial_z+layer*EH)) #21\n",
        "  steps.append(fc.Point(x=112.7, y=92, z=initial_z+layer*EH)) #22\n",
        "  steps.append(fc.Point(x=108, y=87.3, z=initial_z+layer*EH)) #23\n",
        "  steps.append(fc.Point(x=110, y=87.3, z=initial_z+layer*EH)) #24\n",
        "  steps.append(fc.Point(x=112.7, y=90, z=initial_z+layer*EH)) #25\n",
        "  steps.append(fc.Point(x=112.7, y=88, z=initial_z+layer*EH)) #26\n",
        "  steps.append(fc.Point(x=112, y=87.3, z=initial_z+layer*EH)) #27\n",
        "  steps.append(fc.Point(x=112.7, y=87.3, z=initial_z+layer*EH)) #28"
      ],
      "metadata": {
        "id": "GnRLpNjdSxsp"
      },
      "execution_count": null,
      "outputs": []
    },
    {
      "cell_type": "code",
      "source": [
        "# preview the design\n",
        "\n",
        "# fc.transform(steps, 'plot', fc.PlotControls(style='line', zoom=0.7))\n",
        "# hover the cursor over the lines in the plot to check xyz positions of the points in the design\n",
        "\n",
        "# uncomment the next line to create a plot with real heights/widths for extruded lines to preview the real 3D printed geometry\n",
        "fc.transform(steps, 'plot', fc.PlotControls(style='tube', zoom=0.7, initialization_data={'extrusion_width': EW, 'extrusion_height': EH}))\n",
        "\n",
        "# uncomment the next line to create a neat preview (click the top-left button in the plot for a .png file) - post and tag @FullControlXYZ :)\n",
        "# fc.transform(steps, 'plot', fc.PlotControls(neat_for_publishing=True, zoom=0.5, initialization_data={'extrusion_width': EW, 'extrusion_height': EH}))"
      ],
      "metadata": {
        "id": "5pxmAbefS2IF"
      },
      "execution_count": null,
      "outputs": []
    },
    {
      "cell_type": "code",
      "source": [
        "# generate and save gcode\n",
        "\n",
        "gcode_controls = fc.GcodeControls(\n",
        "    printer_name=printer_name,\n",
        "\n",
        "    initialization_data={\n",
        "        'primer': 'front_lines_then_y',\n",
        "        'print_speed': print_speed,\n",
        "        'nozzle_temp': nozzle_temp,\n",
        "        'bed_temp': bed_temp,\n",
        "        'fan_percent': fan_percent,\n",
        "        'extrusion_width': EW,\n",
        "        'extrusion_height': EH})\n",
        "gcode = fc.transform(steps, 'gcode', gcode_controls)\n",
        "open(f'{design_name}.gcode', 'w').write(gcode)\n",
        "files.download(f'{design_name}.gcode')"
      ],
      "metadata": {
        "id": "8wFQH-hmS3y6"
      },
      "execution_count": null,
      "outputs": []
    }
  ]
}